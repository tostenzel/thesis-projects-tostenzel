{
 "cells": [
  {
   "cell_type": "code",
   "execution_count": 8,
   "metadata": {},
   "outputs": [],
   "source": [
    "import sys\n",
    "# Define relative path.\n",
    "sys.path.append(\"python\")"
   ]
  },
  {
   "cell_type": "code",
   "execution_count": 9,
   "metadata": {},
   "outputs": [],
   "source": [
    "import itertools\n",
    "import matplotlib.pyplot as plt\n",
    "import numpy as np\n",
    "import pandas as pd\n",
    "\n",
    "from sampling_trajectory import morris_trajectory\n",
    "from screening_measures_gm_2017 import screening_measures_gm_2017"
   ]
  },
  {
   "cell_type": "code",
   "execution_count": 36,
   "metadata": {},
   "outputs": [
    {
     "data": {
      "text/plain": [
       "'Perhaps I need to add the scaled Elementary Effects (by SD)'"
      ]
     },
     "execution_count": 36,
     "metadata": {},
     "output_type": "execute_result"
    }
   ],
   "source": [
    "\"\"\"Perhaps I need to add the scaled Elementary Effects (by SD)\"\"\""
   ]
  },
  {
   "cell_type": "code",
   "execution_count": 10,
   "metadata": {},
   "outputs": [],
   "source": [
    "def bar_plot(input_par_array):\n",
    "    new_list = input_par_array.reshape(-1, 1).tolist()\n",
    "    merged = pd.Series(itertools.chain.from_iterable(new_list))\n",
    "    vc = merged.value_counts().sort_index()\n",
    "    vc /= float(vc.sum())\n",
    "    assert vc.sum() > 0.999\n",
    "    ax = vc.plot(kind='bar')\n",
    "    fig = ax.get_figure()\n",
    "    fig.autofmt_xdate()"
   ]
  },
  {
   "cell_type": "code",
   "execution_count": 11,
   "metadata": {},
   "outputs": [],
   "source": [
    "seed = 2020\n",
    "n_levels = 10\n",
    "n_inputs = 3\n",
    "n_traj_sample = 10_000\n",
    "\n",
    "sample_traj_list = list()\n",
    "\n",
    "for traj in range(0, n_traj_sample):\n",
    "    seed = seed + traj\n",
    "    sample_traj_list.append(morris_trajectory(n_inputs, n_levels, seed=seed))"
   ]
  },
  {
   "cell_type": "code",
   "execution_count": 12,
   "metadata": {},
   "outputs": [
    {
     "data": {
      "image/png": "[encoded data removed]",
      "text/plain": [
       "<Figure size 432x288 with 1 Axes>"
      ]
     },
     "metadata": {
      "needs_background": "light"
     },
     "output_type": "display_data"
    }
   ],
   "source": [
    "bar_plot(np.vstack(sample_traj_list))"
   ]
  },
  {
   "cell_type": "code",
   "execution_count": 13,
   "metadata": {},
   "outputs": [],
   "source": [
    "expectation = np.array([0, 0, 0])\n",
    "cov = np.array(\n",
    "    [\n",
    "        [1.0, +0.5, 0.0],\n",
    "        [+0.5, 1.0, 0.0],\n",
    "        [0.0, 0.0, 1.0],\n",
    "    ]\n",
    ")"
   ]
  },
  {
   "cell_type": "code",
   "execution_count": 14,
   "metadata": {},
   "outputs": [],
   "source": [
    "def linear_function(a, b, c, *args):\n",
    "    return a + b + c"
   ]
  },
  {
   "cell_type": "code",
   "execution_count": 15,
   "metadata": {},
   "outputs": [],
   "source": [
    "abs_ee_ind, abs_ee_full, sd_ee_ind, sd_ee_full = screening_measures_gm_2017(linear_function, sample_traj_list, cov, n_levels, mu=expectation)"
   ]
  },
  {
   "cell_type": "code",
   "execution_count": 16,
   "metadata": {},
   "outputs": [
    {
     "data": {
      "text/plain": [
       "array([[3.04101661],\n",
       "       [3.05235663],\n",
       "       [3.5142955 ]])"
      ]
     },
     "execution_count": 16,
     "metadata": {},
     "output_type": "execute_result"
    }
   ],
   "source": [
    "abs_ee_ind"
   ]
  },
  {
   "cell_type": "code",
   "execution_count": 17,
   "metadata": {},
   "outputs": [
    {
     "data": {
      "text/plain": [
       "array([[5.26719528],\n",
       "       [5.28683677],\n",
       "       [3.5142955 ]])"
      ]
     },
     "execution_count": 17,
     "metadata": {},
     "output_type": "execute_result"
    }
   ],
   "source": [
    "abs_ee_full"
   ]
  },
  {
   "cell_type": "code",
   "execution_count": 18,
   "metadata": {},
   "outputs": [
    {
     "data": {
      "text/plain": [
       "array([[3.11091538],\n",
       "       [3.12209522],\n",
       "       [3.59528995]])"
      ]
     },
     "execution_count": 18,
     "metadata": {},
     "output_type": "execute_result"
    }
   ],
   "source": [
    "sd_ee_ind"
   ]
  },
  {
   "cell_type": "code",
   "execution_count": 19,
   "metadata": {},
   "outputs": [
    {
     "data": {
      "text/plain": [
       "array([[5.3882635 ],\n",
       "       [5.40762754],\n",
       "       [3.59528995]])"
      ]
     },
     "execution_count": 19,
     "metadata": {},
     "output_type": "execute_result"
    }
   ],
   "source": [
    "sd_ee_full"
   ]
  },
  {
   "cell_type": "code",
   "execution_count": 20,
   "metadata": {},
   "outputs": [],
   "source": [
    "\"\"\"Ishigami\"\"\"\n",
    "def ishigami(q0, q1, q2, a=2, b=3):\n",
    "    \"\"\"Note: Originally, this function takes uniform, not standard normally distributed inputs\"\"\"\n",
    "    return np.sin(q0) + a*(np.sin(q1))**2 + b*q2**4*np.sin(q0)"
   ]
  },
  {
   "cell_type": "code",
   "execution_count": 21,
   "metadata": {},
   "outputs": [],
   "source": [
    "a=2\n",
    "b=3\n",
    "vals = [0.5 + (a**2)/8 + (b*(np.pi**4))/5 + ((b**2)*(np.pi**8)/18),\n",
    "        (0.5 + b*(np.pi**4)/5 + (b**2)*(np.pi**8)/50), (a**2)/8,\n",
    "         0, 0, (8*b**2*np.pi**8)/225, 0, 0]\n",
    "total_order = [(vals[1]+vals[5])/vals[0], vals[2]/vals[0], vals[5]/vals[0]]"
   ]
  },
  {
   "cell_type": "code",
   "execution_count": 22,
   "metadata": {},
   "outputs": [
    {
     "data": {
      "text/plain": [
       "[0.9998959138041636, 0.00010408619583630811, 0.6320800624240672]"
      ]
     },
     "execution_count": 22,
     "metadata": {},
     "output_type": "execute_result"
    }
   ],
   "source": [
    "total_order # Compare with SDs not with EEs."
   ]
  },
  {
   "cell_type": "code",
   "execution_count": 23,
   "metadata": {},
   "outputs": [],
   "source": [
    "abs_ee_ind, abs_ee_full, sd_ee_ind, sd_ee_full = screening_measures_gm_2017(ishigami, sample_traj_list, cov, n_levels, mu=expectation)"
   ]
  },
  {
   "cell_type": "code",
   "execution_count": 24,
   "metadata": {},
   "outputs": [
    {
     "data": {
      "text/plain": [
       "array([[37.13096783],\n",
       "       [ 2.11609088],\n",
       "       [40.12729498]])"
      ]
     },
     "execution_count": 24,
     "metadata": {},
     "output_type": "execute_result"
    }
   ],
   "source": [
    "abs_ee_ind"
   ]
  },
  {
   "cell_type": "code",
   "execution_count": 25,
   "metadata": {},
   "outputs": [
    {
     "data": {
      "text/plain": [
       "array([[43.25851073],\n",
       "       [24.08866555],\n",
       "       [40.12729498]])"
      ]
     },
     "execution_count": 25,
     "metadata": {},
     "output_type": "execute_result"
    }
   ],
   "source": [
    "abs_ee_full"
   ]
  },
  {
   "cell_type": "code",
   "execution_count": 26,
   "metadata": {},
   "outputs": [
    {
     "data": {
      "text/plain": [
       "array([[78.77364513],\n",
       "       [ 2.36344933],\n",
       "       [65.37641073]])"
      ]
     },
     "execution_count": 26,
     "metadata": {},
     "output_type": "execute_result"
    }
   ],
   "source": [
    "sd_ee_ind"
   ]
  },
  {
   "cell_type": "code",
   "execution_count": 27,
   "metadata": {},
   "outputs": [
    {
     "data": {
      "text/plain": [
       "array([[86.74814038],\n",
       "       [51.58131713],\n",
       "       [65.37641073]])"
      ]
     },
     "execution_count": 27,
     "metadata": {},
     "output_type": "execute_result"
    }
   ],
   "source": [
    "sd_ee_full"
   ]
  },
  {
   "cell_type": "code",
   "execution_count": 28,
   "metadata": {},
   "outputs": [],
   "source": [
    "\"\"\"\n",
    "new experiment, see on page 15 in\n",
    "http://www2.stat.duke.edu/~fei/samsi/Readings/06LinkBingHengHigfYe.pdf\n",
    "\n",
    "\"\"\"\n",
    "seed = 2020\n",
    "n_levels = 10\n",
    "n_inputs = 8\n",
    "n_traj_sample = 10_000\n",
    "\n",
    "sample_traj_list = list()\n",
    "\n",
    "for traj in range(0, n_traj_sample):\n",
    "    seed = seed + traj\n",
    "    sample_traj_list.append(morris_trajectory(n_inputs, n_levels, seed=seed))"
   ]
  },
  {
   "cell_type": "code",
   "execution_count": 29,
   "metadata": {},
   "outputs": [],
   "source": [
    "def linkletter_et_al_2006(x0, x1, x2, x3, x4, x5, x6, x7, *args):\n",
    "    epsilon = np.random.normal(0, 0.05)\n",
    "    return 0.2*x0 + (0.2/2)*x1 + (0.2/4)*x2 + (0.2/8)*x3 + (0.2/16)*x4 + (0.2/32)*x5 + (0.2/64)*x6 + (0.2/128)*x7 + epsilon"
   ]
  },
  {
   "cell_type": "code",
   "execution_count": 30,
   "metadata": {},
   "outputs": [],
   "source": [
    "expectation = np.array([0, 0, 0, 0, 0, 0, 0, 0])\n",
    "\n",
    "\n",
    "cov = np.array(\n",
    "    [\n",
    "        [1.0, 0.0, 0.0, 0.0, 0.0, 0.0, 0.0, 0.0],\n",
    "        [0.0, 1.0, 0.0, 0.0, 0.0, 0.0, 0.0, 0.0],\n",
    "        [0.0, 0.0, 1.0, 0.0, 0.0, 0.0, 0.0, 0.0],\n",
    "        [0.0, 0.0, 0.0, 1.0, 0.0, 0.0, 0.0, 0.0],\n",
    "        [0.0, 0.0, 0.0, 0.0, 1.0, 0.0, 0.0, 0.0],\n",
    "        [0.0, 0.0, 0.0, 0.0, 0.0, 1.0, 0.0, 0.0],\n",
    "        [0.0, 0.0, 0.0, 0.0, 0.0, 0.0, 1.0, 0.0],\n",
    "        [0.0, 0.0, 0.0, 0.0, 0.0, 0.0, 0.0, 1.0],\n",
    "    ]\n",
    ")"
   ]
  },
  {
   "cell_type": "code",
   "execution_count": 31,
   "metadata": {},
   "outputs": [],
   "source": [
    "abs_ee_ind, abs_ee_full, sd_ee_ind, sd_ee_full = screening_measures_gm_2017(linkletter_et_al_2006, sample_traj_list, cov, n_levels, mu=expectation)"
   ]
  },
  {
   "cell_type": "code",
   "execution_count": 32,
   "metadata": {},
   "outputs": [
    {
     "data": {
      "text/plain": [
       "array([[0.70194624],\n",
       "       [0.35217938],\n",
       "       [0.18848161],\n",
       "       [0.12576503],\n",
       "       [0.10816584],\n",
       "       [0.10269197],\n",
       "       [0.10085846],\n",
       "       [0.10087957]])"
      ]
     },
     "execution_count": 32,
     "metadata": {},
     "output_type": "execute_result"
    }
   ],
   "source": [
    "abs_ee_ind"
   ]
  },
  {
   "cell_type": "code",
   "execution_count": 33,
   "metadata": {},
   "outputs": [
    {
     "data": {
      "text/plain": [
       "array([[0.70005253],\n",
       "       [0.3511992 ],\n",
       "       [0.18675411],\n",
       "       [0.12670118],\n",
       "       [0.10802834],\n",
       "       [0.10303452],\n",
       "       [0.10259954],\n",
       "       [0.10083775]])"
      ]
     },
     "execution_count": 33,
     "metadata": {},
     "output_type": "execute_result"
    }
   ],
   "source": [
    "abs_ee_full"
   ]
  },
  {
   "cell_type": "code",
   "execution_count": 34,
   "metadata": {},
   "outputs": [
    {
     "data": {
      "text/plain": [
       "array([[0.72925661],\n",
       "       [0.38167871],\n",
       "       [0.22180608],\n",
       "       [0.15566111],\n",
       "       [0.13517422],\n",
       "       [0.12883488],\n",
       "       [0.12641959],\n",
       "       [0.12644807]])"
      ]
     },
     "execution_count": 34,
     "metadata": {},
     "output_type": "execute_result"
    }
   ],
   "source": [
    "sd_ee_ind"
   ]
  },
  {
   "cell_type": "code",
   "execution_count": 35,
   "metadata": {},
   "outputs": [
    {
     "data": {
      "text/plain": [
       "array([[0.7273522 ],\n",
       "       [0.37999654],\n",
       "       [0.22066547],\n",
       "       [0.15702379],\n",
       "       [0.13574865],\n",
       "       [0.12880063],\n",
       "       [0.12811924],\n",
       "       [0.12641977]])"
      ]
     },
     "execution_count": 35,
     "metadata": {},
     "output_type": "execute_result"
    }
   ],
   "source": [
    "sd_ee_full"
   ]
  },
  {
   "cell_type": "code",
   "execution_count": null,
   "metadata": {},
   "outputs": [],
   "source": []
  }
 ],
 "metadata": {
  "kernelspec": {
   "display_name": "Python 3",
   "language": "python",
   "name": "python3"
  },
  "language_info": {
   "codemirror_mode": {
    "name": "ipython",
    "version": 3
   },
   "file_extension": ".py",
   "mimetype": "text/x-python",
   "name": "python",
   "nbconvert_exporter": "python",
   "pygments_lexer": "ipython3",
   "version": "3.6.9"
  }
 },
 "nbformat": 4,
 "nbformat_minor": 4
}
