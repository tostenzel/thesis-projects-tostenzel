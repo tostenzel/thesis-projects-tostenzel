{
 "cells": [
  {
   "cell_type": "code",
   "execution_count": 1,
   "metadata": {},
   "outputs": [],
   "source": [
    "import sys\n",
    "# Define relative path.\n",
    "sys.path.append(\"python\")"
   ]
  },
  {
   "cell_type": "code",
   "execution_count": 2,
   "metadata": {},
   "outputs": [],
   "source": [
    "import itertools\n",
    "import matplotlib.pyplot as plt\n",
    "import numpy as np\n",
    "import pandas as pd\n",
    "\n",
    "from sampling_trajectory import morris_trajectory\n",
    "from screening_measures_gm_2017 import screening_measures_gm_2017\n",
    "\n",
    "from transform_reorder import reorder_cov\n",
    "from transform_distributions import covariance_to_correlation\n",
    "import scipy.linalg as linalg"
   ]
  },
  {
   "cell_type": "code",
   "execution_count": 3,
   "metadata": {},
   "outputs": [
    {
     "data": {
      "text/plain": [
       "'Perhaps I need to add the scaled Elementary Effects (by SD)'"
      ]
     },
     "execution_count": 3,
     "metadata": {},
     "output_type": "execute_result"
    }
   ],
   "source": [
    "\"\"\"Perhaps I need to add the scaled Elementary Effects (by SD)\"\"\""
   ]
  },
  {
   "cell_type": "code",
   "execution_count": 4,
   "metadata": {},
   "outputs": [],
   "source": [
    "def bar_plot(input_par_array):\n",
    "    new_list = input_par_array.reshape(-1, 1).tolist()\n",
    "    merged = pd.Series(itertools.chain.from_iterable(new_list))\n",
    "    vc = merged.value_counts().sort_index()\n",
    "    vc /= float(vc.sum())\n",
    "    assert vc.sum() > 0.999\n",
    "    ax = vc.plot(kind='bar')\n",
    "    fig = ax.get_figure()\n",
    "    fig.autofmt_xdate()"
   ]
  },
  {
   "cell_type": "code",
   "execution_count": 5,
   "metadata": {},
   "outputs": [],
   "source": [
    "seed = 2020\n",
    "n_levels = 10\n",
    "n_inputs = 3\n",
    "n_traj_sample = 10_000\n",
    "\n",
    "sample_traj_list = list()\n",
    "\n",
    "for traj in range(0, n_traj_sample):\n",
    "    seed = seed + traj\n",
    "    sample_traj_list.append(morris_trajectory(n_inputs, n_levels, seed=seed))"
   ]
  },
  {
   "cell_type": "code",
   "execution_count": 6,
   "metadata": {},
   "outputs": [
    {
     "data": {
      "image/png": "[encoded data removed]",
      "text/plain": [
       "<Figure size 432x288 with 1 Axes>"
      ]
     },
     "metadata": {
      "needs_background": "light"
     },
     "output_type": "display_data"
    }
   ],
   "source": [
    "\"Check: For some even n_levels 1.0 has double the number of observations.\"\n",
    "bar_plot(np.vstack(sample_traj_list))"
   ]
  },
  {
   "cell_type": "code",
   "execution_count": 7,
   "metadata": {},
   "outputs": [],
   "source": [
    "expectation = np.array([0, 0, 0])\n",
    "\"\"\"\n",
    "cov = np.array(\n",
    "    [\n",
    "        [1.0, 0.5, 0.0],\n",
    "        [0.5, 1.0, 0.0],\n",
    "        [0.0, 0.0, 1.0],\n",
    "    ]\n",
    ")\n",
    "\"\"\"\n",
    "cov = np.array(\n",
    "    [\n",
    "        [1.0, 0.9, 0.4],\n",
    "        [0.9, 1.0, 0.0],\n",
    "        [0.4, 0.0, 1.0],\n",
    "    ]\n",
    ")"
   ]
  },
  {
   "cell_type": "code",
   "execution_count": 8,
   "metadata": {},
   "outputs": [],
   "source": [
    "def linear_function(a, b, c, *args):\n",
    "    return a + b + c"
   ]
  },
  {
   "cell_type": "code",
   "execution_count": 9,
   "metadata": {},
   "outputs": [],
   "source": [
    "\"\"\"I am able to replicate the results for the two normally distributed examples. The only difference is the scale because they seem to use another number of levels.\"\"\"\n",
    "abs_ee_ind, abs_ee_full, sd_ee_ind, sd_ee_full = screening_measures_gm_2017(linear_function, sample_traj_list, cov, n_levels, mu=expectation)"
   ]
  },
  {
   "cell_type": "code",
   "execution_count": 10,
   "metadata": {},
   "outputs": [
    {
     "data": {
      "text/plain": [
       "array([[0.60883039],\n",
       "       [0.66527699],\n",
       "       [1.39625905]])"
      ]
     },
     "execution_count": 10,
     "metadata": {},
     "output_type": "execute_result"
    }
   ],
   "source": [
    "\"\"\"\n",
    "In my opinion, we would like to have the values for `abs_ee_ind` and `sd_ee_ind` to be equal.\n",
    "However, the independet measures for dependent inputs are always smaller than the ones for the independent inputs because the positive delta gets decorrelated (decreases) for the former type.\n",
    "In 2d case: delta/np.sqrt(1-rho^2). This actually re-introduces dependancies. This should not happen for an independet EE.\n",
    "\n",
    "My proposal for improvement: Add delta after decorrrlating the sample for the independent effect.\n",
    "Question: Why do the Sobol' indices follow this trend without a fixed delta? Probably they also decorrelate the squared distance between observation and mean.\n",
    "\"\"\"\n",
    "abs_ee_ind"
   ]
  },
  {
   "cell_type": "code",
   "execution_count": 11,
   "metadata": {},
   "outputs": [
    {
     "data": {
      "text/plain": [
       "array([[0.62263717],\n",
       "       [0.68059779],\n",
       "       [1.42841459]])"
      ]
     },
     "execution_count": 11,
     "metadata": {},
     "output_type": "execute_result"
    }
   ],
   "source": [
    "sd_ee_ind"
   ]
  },
  {
   "cell_type": "code",
   "execution_count": 12,
   "metadata": {},
   "outputs": [
    {
     "data": {
      "text/plain": [
       "array([[8.08469294],\n",
       "       [6.68859836],\n",
       "       [4.91937816]])"
      ]
     },
     "execution_count": 12,
     "metadata": {},
     "output_type": "execute_result"
    }
   ],
   "source": [
    "abs_ee_full"
   ]
  },
  {
   "cell_type": "code",
   "execution_count": 13,
   "metadata": {},
   "outputs": [
    {
     "data": {
      "text/plain": [
       "array([[8.26803391],\n",
       "       [6.84263143],\n",
       "       [5.03267038]])"
      ]
     },
     "execution_count": 13,
     "metadata": {},
     "output_type": "execute_result"
    }
   ],
   "source": [
    "sd_ee_full"
   ]
  },
  {
   "cell_type": "code",
   "execution_count": 14,
   "metadata": {},
   "outputs": [],
   "source": [
    "\"\"\"Ishigami\"\"\"\n",
    "def ishigami(q0, q1, q2, a=2, b=3):\n",
    "    \"\"\"Note: Originally, this function takes uniform, not standard normally distributed inputs\"\"\"\n",
    "    return np.sin(q0) + a*(np.sin(q1))**2 + b*q2**4*np.sin(q0)"
   ]
  },
  {
   "cell_type": "code",
   "execution_count": 15,
   "metadata": {},
   "outputs": [],
   "source": [
    "cov = np.array(\n",
    "    [\n",
    "        [1.0, 0.5, 0.0],\n",
    "        [0.5, 1.0, 0.0],\n",
    "        [0.0, 0.0, 1.0],\n",
    "    ]\n",
    ")"
   ]
  },
  {
   "cell_type": "code",
   "execution_count": 16,
   "metadata": {},
   "outputs": [],
   "source": [
    "a=2\n",
    "b=3\n",
    "vals = [0.5 + (a**2)/8 + (b*(np.pi**4))/5 + ((b**2)*(np.pi**8)/18),\n",
    "        (0.5 + b*(np.pi**4)/5 + (b**2)*(np.pi**8)/50), (a**2)/8,\n",
    "         0, 0, (8*b**2*np.pi**8)/225, 0, 0]\n",
    "total_order = [(vals[1]+vals[5])/vals[0], vals[2]/vals[0], vals[5]/vals[0]]"
   ]
  },
  {
   "cell_type": "code",
   "execution_count": 17,
   "metadata": {},
   "outputs": [
    {
     "data": {
      "text/plain": [
       "[0.9998959138041636, 0.00010408619583630811, 0.6320800624240672]"
      ]
     },
     "execution_count": 17,
     "metadata": {},
     "output_type": "execute_result"
    }
   ],
   "source": [
    "total_order # Compare with sd_ee_ind."
   ]
  },
  {
   "cell_type": "code",
   "execution_count": 18,
   "metadata": {},
   "outputs": [],
   "source": [
    "abs_ee_ind, abs_ee_full, sd_ee_ind, sd_ee_full = screening_measures_gm_2017(ishigami, sample_traj_list, cov, n_levels, mu=expectation)"
   ]
  },
  {
   "cell_type": "code",
   "execution_count": 19,
   "metadata": {},
   "outputs": [
    {
     "data": {
      "text/plain": [
       "array([[36.74671064],\n",
       "       [ 2.12252248],\n",
       "       [39.4414288 ]])"
      ]
     },
     "execution_count": 19,
     "metadata": {},
     "output_type": "execute_result"
    }
   ],
   "source": [
    "abs_ee_ind"
   ]
  },
  {
   "cell_type": "code",
   "execution_count": 20,
   "metadata": {},
   "outputs": [
    {
     "data": {
      "text/plain": [
       "array([[78.79884993],\n",
       "       [ 2.36653368],\n",
       "       [64.55201645]])"
      ]
     },
     "execution_count": 20,
     "metadata": {},
     "output_type": "execute_result"
    }
   ],
   "source": [
    "sd_ee_ind"
   ]
  },
  {
   "cell_type": "code",
   "execution_count": 21,
   "metadata": {},
   "outputs": [
    {
     "data": {
      "text/plain": [
       "array([[42.58839549],\n",
       "       [23.34094679],\n",
       "       [39.4414288 ]])"
      ]
     },
     "execution_count": 21,
     "metadata": {},
     "output_type": "execute_result"
    }
   ],
   "source": [
    "abs_ee_full"
   ]
  },
  {
   "cell_type": "code",
   "execution_count": 22,
   "metadata": {},
   "outputs": [
    {
     "data": {
      "text/plain": [
       "array([[85.98099457],\n",
       "       [50.53043426],\n",
       "       [64.55201645]])"
      ]
     },
     "execution_count": 22,
     "metadata": {},
     "output_type": "execute_result"
    }
   ],
   "source": [
    "sd_ee_full"
   ]
  },
  {
   "cell_type": "code",
   "execution_count": 23,
   "metadata": {},
   "outputs": [],
   "source": [
    "\"\"\"\n",
    "new experiment, see on page 15 in\n",
    "http://www2.stat.duke.edu/~fei/samsi/Readings/06LinkBingHengHigfYe.pdf\n",
    "\n",
    "\"\"\"\n",
    "seed = 2020\n",
    "n_levels = 10\n",
    "n_inputs = 8\n",
    "n_traj_sample = 10_000\n",
    "\n",
    "sample_traj_list = list()\n",
    "\n",
    "for traj in range(0, n_traj_sample):\n",
    "    seed = seed + traj\n",
    "    sample_traj_list.append(morris_trajectory(n_inputs, n_levels, seed=seed))"
   ]
  },
  {
   "cell_type": "code",
   "execution_count": 24,
   "metadata": {},
   "outputs": [],
   "source": [
    "def linkletter_et_al_2006(x0, x1, x2, x3, x4, x5, x6, x7, *args):\n",
    "    epsilon = np.random.normal(0, 0.05)\n",
    "    return 0.2*x0 + (0.2/2)*x1 + (0.2/4)*x2 + (0.2/8)*x3 + (0.2/16)*x4 + (0.2/32)*x5 + (0.2/64)*x6 + (0.2/128)*x7 + epsilon"
   ]
  },
  {
   "cell_type": "code",
   "execution_count": 25,
   "metadata": {},
   "outputs": [],
   "source": [
    "expectation = np.array([0, 0, 0, 0, 0, 0, 0, 0])\n",
    "\n",
    "\n",
    "cov = np.array(\n",
    "    [\n",
    "        [1.0, 0.0, 0.0, 0.0, 0.0, 0.0, 0.0, 0.0],\n",
    "        [0.0, 1.0, 0.0, 0.0, 0.0, 0.0, 0.0, 0.0],\n",
    "        [0.0, 0.0, 1.0, 0.0, 0.0, 0.0, 0.0, 0.0],\n",
    "        [0.0, 0.0, 0.0, 1.0, 0.0, 0.0, 0.0, 0.0],\n",
    "        [0.0, 0.0, 0.0, 0.0, 1.0, 0.0, 0.0, 0.0],\n",
    "        [0.0, 0.0, 0.0, 0.0, 0.0, 1.0, 0.0, 0.0],\n",
    "        [0.0, 0.0, 0.0, 0.0, 0.0, 0.0, 1.0, 0.0],\n",
    "        [0.0, 0.0, 0.0, 0.0, 0.0, 0.0, 0.0, 1.0],\n",
    "    ]\n",
    ")"
   ]
  },
  {
   "cell_type": "code",
   "execution_count": 26,
   "metadata": {},
   "outputs": [],
   "source": [
    "abs_ee_ind, abs_ee_full, sd_ee_ind, sd_ee_full = screening_measures_gm_2017(linkletter_et_al_2006, sample_traj_list, cov, n_levels, mu=expectation)"
   ]
  },
  {
   "cell_type": "code",
   "execution_count": 27,
   "metadata": {},
   "outputs": [
    {
     "data": {
      "text/plain": [
       "array([[0.70165289],\n",
       "       [0.35347313],\n",
       "       [0.18673007],\n",
       "       [0.12439196],\n",
       "       [0.10800479],\n",
       "       [0.10270555],\n",
       "       [0.1006008 ],\n",
       "       [0.10084491]])"
      ]
     },
     "execution_count": 27,
     "metadata": {},
     "output_type": "execute_result"
    }
   ],
   "source": [
    "abs_ee_ind"
   ]
  },
  {
   "cell_type": "code",
   "execution_count": 28,
   "metadata": {},
   "outputs": [
    {
     "data": {
      "text/plain": [
       "array([[0.72849798],\n",
       "       [0.38311621],\n",
       "       [0.21965497],\n",
       "       [0.15466003],\n",
       "       [0.13554984],\n",
       "       [0.1288121 ],\n",
       "       [0.12619464],\n",
       "       [0.12635073]])"
      ]
     },
     "execution_count": 28,
     "metadata": {},
     "output_type": "execute_result"
    }
   ],
   "source": [
    "sd_ee_ind"
   ]
  },
  {
   "cell_type": "code",
   "execution_count": 29,
   "metadata": {},
   "outputs": [
    {
     "data": {
      "text/plain": [
       "array([[0.70484402],\n",
       "       [0.35244601],\n",
       "       [0.18780848],\n",
       "       [0.12600586],\n",
       "       [0.10775993],\n",
       "       [0.10285872],\n",
       "       [0.10263554],\n",
       "       [0.10091443]])"
      ]
     },
     "execution_count": 29,
     "metadata": {},
     "output_type": "execute_result"
    }
   ],
   "source": [
    "abs_ee_full"
   ]
  },
  {
   "cell_type": "code",
   "execution_count": 30,
   "metadata": {},
   "outputs": [
    {
     "data": {
      "text/plain": [
       "array([[0.73214743],\n",
       "       [0.38227639],\n",
       "       [0.22075352],\n",
       "       [0.15651347],\n",
       "       [0.135768  ],\n",
       "       [0.12898606],\n",
       "       [0.12815038],\n",
       "       [0.12647607]])"
      ]
     },
     "execution_count": 30,
     "metadata": {},
     "output_type": "execute_result"
    }
   ],
   "source": [
    "sd_ee_full"
   ]
  },
  {
   "cell_type": "code",
   "execution_count": null,
   "metadata": {},
   "outputs": [],
   "source": []
  }
 ],
 "metadata": {
  "kernelspec": {
   "display_name": "Python 3",
   "language": "python",
   "name": "python3"
  },
  "language_info": {
   "codemirror_mode": {
    "name": "ipython",
    "version": 3
   },
   "file_extension": ".py",
   "mimetype": "text/x-python",
   "name": "python",
   "nbconvert_exporter": "python",
   "pygments_lexer": "ipython3",
   "version": "3.6.9"
  }
 },
 "nbformat": 4,
 "nbformat_minor": 4
}
