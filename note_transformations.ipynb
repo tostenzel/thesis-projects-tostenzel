{
 "cells": [
  {
   "cell_type": "code",
   "execution_count": 1,
   "metadata": {},
   "outputs": [],
   "source": [
    "import sys\n",
    "# Define relative path.\n",
    "sys.path.append(\"python\")"
   ]
  },
  {
   "cell_type": "code",
   "execution_count": 2,
   "metadata": {},
   "outputs": [],
   "source": [
    "import numpy as np\n",
    "import scipy.linalg as linalg\n",
    "from scipy.stats import norm\n",
    "\n",
    "from distributions import distributions\n",
    "from nataf_transformation import nataf_transformation\n",
    "from ge_menendez_2017_traj_transformation import james_e_gentle_2006"
   ]
  },
  {
   "cell_type": "code",
   "execution_count": 3,
   "metadata": {},
   "outputs": [
    {
     "data": {
      "text/plain": [
       "'TO DO: Check that all vectors (n,) are row vectors.'"
      ]
     },
     "execution_count": 3,
     "metadata": {},
     "output_type": "execute_result"
    }
   ],
   "source": [
    "\"\"\"TO DO: Check that all vectors (n,) are row vectors.\"\"\""
   ]
  },
  {
   "cell_type": "code",
   "execution_count": 4,
   "metadata": {},
   "outputs": [
    {
     "data": {
      "text/plain": [
       "'To DO: Write notebook for Lemaure Transfromation and its inverse. Also use non-standard normal distributions.'"
      ]
     },
     "execution_count": 4,
     "metadata": {},
     "output_type": "execute_result"
    }
   ],
   "source": [
    "\"\"\"To DO: Write notebook for Lemaure Transfromation and its inverse. Also use non-standard normal distributions.\"\"\""
   ]
  },
  {
   "cell_type": "code",
   "execution_count": 5,
   "metadata": {},
   "outputs": [
    {
     "data": {
      "text/plain": [
       "array([[-1.28155157],\n",
       "       [-1.28155157],\n",
       "       [-0.84162123],\n",
       "       [ 0.84162123],\n",
       "       [ 0.        ]])"
      ]
     },
     "execution_count": 5,
     "metadata": {},
     "output_type": "execute_result"
    }
   ],
   "source": [
    "row_approx = np.array([0.1, 0.1, 0.2, 0.8, 0.5])\n",
    "# Transform uniform variable to standard normal space.\n",
    "z = norm.ppf(row_approx) \n",
    "z.reshape(5,1)"
   ]
  },
  {
   "cell_type": "code",
   "execution_count": 6,
   "metadata": {},
   "outputs": [
    {
     "data": {
      "text/plain": [
       "array([[-1.28155157],\n",
       "       [-1.28155157],\n",
       "       [-1.28397923],\n",
       "       [ 0.37548431],\n",
       "       [-0.72770357]])"
      ]
     },
     "execution_count": 6,
     "metadata": {},
     "output_type": "execute_result"
    }
   ],
   "source": [
    "\"\"\"(Forward) Nataf Transformation\"\"\"\n",
    "\n",
    "M = list()\n",
    "M.append(distributions('normal', 'PAR', [0, 1]))\n",
    "M.append(distributions('normal', 'PAR', [0, 1]))\n",
    "M.append(distributions('normal', 'PAR', [0, 1]))\n",
    "M.append(distributions('normal', 'PAR', [0, 1]))\n",
    "M.append(distributions('normal', 'PAR', [0, 1]))\n",
    "\n",
    "cov = np.array([\n",
    "        [1,0,0,0.2,0.5],\n",
    "        [0,1,0.4,0.15,0],\n",
    "        [0,0.4,1,0.05,0],\n",
    "        [0.2,0.15,0.05,1,0],\n",
    "        [0.5,0,0,0,1]])\n",
    "\n",
    "# Correlation matrix.\n",
    "Rho = cov\n",
    "\n",
    "# Applying Nataf transformation\n",
    "T_Nataf = nataf_transformation(M, Rho)\n",
    "\n",
    "# Transform sample from INDEPENDENT standard normal to DEPENDENT actual/physical space.\n",
    "X = T_Nataf.U2X(z)\n",
    "X"
   ]
  },
  {
   "cell_type": "code",
   "execution_count": 7,
   "metadata": {},
   "outputs": [
    {
     "data": {
      "text/plain": [
       "array([[-1.28155157],\n",
       "       [-1.28155157],\n",
       "       [-1.28397923],\n",
       "       [ 0.37548431],\n",
       "       [-0.72770357]])"
      ]
     },
     "execution_count": 7,
     "metadata": {},
     "output_type": "execute_result"
    }
   ],
   "source": [
    "# Transform sample from uniform space to multivariate normal space, not necessarily independet or standard.\n",
    "X_check = james_e_gentle_2006(row_approx, cov)\n",
    "X_check.reshape(5,1)"
   ]
  },
  {
   "cell_type": "code",
   "execution_count": 8,
   "metadata": {},
   "outputs": [
    {
     "data": {
      "text/plain": [
       "array([[-1.28155157e+00],\n",
       "       [-1.28155157e+00],\n",
       "       [-8.41621234e-01],\n",
       "       [ 8.41621234e-01],\n",
       "       [-1.87422218e-16]])"
      ]
     },
     "execution_count": 8,
     "metadata": {},
     "output_type": "execute_result"
    }
   ],
   "source": [
    "# Check wether inverse transformations lead to z.\n",
    "# T_Nataf is not reversed because all parameters have the same distribution.\n",
    "\"\"\"(Backward) Inverse Nataf Transformation\"\"\"\n",
    "z_nataf = T_Nataf.X2U(X)\n",
    "\n",
    "\"\"\"backward james e gentle\"\"\"\n",
    "# Transform sample from DEPENDENT standard normal space to INDEPENDENT standard normal space.\n",
    "M_prime = linalg.cholesky(cov, lower=True)\n",
    "inv_M_prime = linalg.inv(M_prime)\n",
    "\n",
    "indie_z = np.dot(inv_M_prime,X)\n",
    "z_nataf.reshape(5,1)"
   ]
  },
  {
   "cell_type": "code",
   "execution_count": 9,
   "metadata": {},
   "outputs": [
    {
     "data": {
      "text/plain": [
       "array([[ 1.        ,  0.        ,  0.        ,  0.        ,  0.        ],\n",
       "       [ 0.        ,  1.        ,  0.        ,  0.        ,  0.        ],\n",
       "       [ 0.        ,  0.4       ,  0.91651514,  0.        ,  0.        ],\n",
       "       [ 0.2       ,  0.15      , -0.01091089,  0.96818436,  0.        ],\n",
       "       [ 0.5       ,  0.        ,  0.        , -0.10328611,  0.85984416]])"
      ]
     },
     "execution_count": 9,
     "metadata": {},
     "output_type": "execute_result"
    }
   ],
   "source": [
    "M_prime"
   ]
  },
  {
   "cell_type": "code",
   "execution_count": 10,
   "metadata": {},
   "outputs": [
    {
     "data": {
      "text/plain": [
       "array([[-1.28155157e+00],\n",
       "       [-1.28155157e+00],\n",
       "       [-8.41621234e-01],\n",
       "       [ 8.41621234e-01],\n",
       "       [-2.15172689e-16]])"
      ]
     },
     "execution_count": 10,
     "metadata": {},
     "output_type": "execute_result"
    }
   ],
   "source": [
    "indie_z"
   ]
  },
  {
   "cell_type": "code",
   "execution_count": 11,
   "metadata": {},
   "outputs": [
    {
     "data": {
      "text/plain": [
       "array([[ 0.        ],\n",
       "       [ 0.84162123],\n",
       "       [-0.84162123],\n",
       "       [-1.28155157],\n",
       "       [-1.28155157]])"
      ]
     },
     "execution_count": 11,
     "metadata": {},
     "output_type": "execute_result"
    }
   ],
   "source": [
    "\"\"\"Show that reverse order of paramaters yields different results.\"\"\"\n",
    "\n",
    "rev_row_approx = np.array([0.5, 0.8, 0.2, 0.1, 0.1])\n",
    "\n",
    "rev_cov = np.array([\n",
    "        [1, 0, 0, 0, 0.5],\n",
    "        [0, 1, 0.05, 0.15, 0.2],\n",
    "        [0, 0.05, 1, 0.4, 0],\n",
    "        [0, 0.15, 0.4, 1, 0],\n",
    "        [0.5, 0.2, 0, 0, 1]])\n",
    "rev_z = norm.ppf(rev_row_approx) \n",
    "rev_z.reshape(5,1)"
   ]
  },
  {
   "cell_type": "code",
   "execution_count": 12,
   "metadata": {},
   "outputs": [
    {
     "data": {
      "text/plain": [
       "array([[ 0.        ],\n",
       "       [ 0.84162123],\n",
       "       [-0.79848749],\n",
       "       [-1.36716278],\n",
       "       [-0.86557956]])"
      ]
     },
     "execution_count": 12,
     "metadata": {},
     "output_type": "execute_result"
    }
   ],
   "source": [
    "\n",
    "\n",
    "# Correlation matrix.\n",
    "rev_Rho = rev_cov\n",
    "\n",
    "# Applying Nataf transformation\n",
    "T_Nataf = nataf_transformation(M, rev_Rho)\n",
    "\n",
    "\n",
    "# Transform sample from INDEPENDENT standard normal to DEPENDENT actual/physical space.\n",
    "rev_X = T_Nataf.U2X(rev_z)\n",
    "\n",
    "# Transform sample from uniform space to multivariate normal space, not necessarily independet or standard.\n",
    "rev_X_check = james_e_gentle_2006(rev_row_approx, rev_cov)\n",
    "\n",
    "rev_X"
   ]
  },
  {
   "cell_type": "code",
   "execution_count": 13,
   "metadata": {},
   "outputs": [
    {
     "data": {
      "text/plain": [
       "array([[ 0.        ],\n",
       "       [ 0.84162123],\n",
       "       [-0.79848749],\n",
       "       [-1.36716278],\n",
       "       [-0.86557956]])"
      ]
     },
     "execution_count": 13,
     "metadata": {},
     "output_type": "execute_result"
    }
   ],
   "source": [
    "rev_X_check.reshape(5,1)"
   ]
  },
  {
   "cell_type": "code",
   "execution_count": 14,
   "metadata": {},
   "outputs": [
    {
     "data": {
      "text/plain": [
       "'\\nResult: The order matters! The first element stays untouched. Also the previous paramters\\ninfluence the following but not vice versa!!!\\n--> The \"Rosenblatt Transformation is not unique for dependent parameters.\\nIt depends on the ordering of marginal (conditional) cdfs.\\n'"
      ]
     },
     "execution_count": 14,
     "metadata": {},
     "output_type": "execute_result"
    }
   ],
   "source": [
    "\"\"\"\n",
    "Result: The order matters! The first element stays untouched. Also the previous paramters\n",
    "influence the following but not vice versa!!!\n",
    "--> The \"Rosenblatt Transformation is not unique for dependent parameters.\n",
    "It depends on the ordering of marginal (conditional) cdfs.\n",
    "\"\"\""
   ]
  },
  {
   "cell_type": "code",
   "execution_count": 15,
   "metadata": {},
   "outputs": [
    {
     "data": {
      "text/plain": [
       "array([[ 0.        ],\n",
       "       [ 0.84162123],\n",
       "       [-0.84162123],\n",
       "       [-1.28155157],\n",
       "       [-1.28155157]])"
      ]
     },
     "execution_count": 15,
     "metadata": {},
     "output_type": "execute_result"
    }
   ],
   "source": [
    "# Check again\n",
    "\"\"\"(Backward) james e gentle (to standard normal!)\"\"\"\n",
    "# Transform sample from DEPENDENT standard normal space to INDEPENDENT standard normal space.\n",
    "rev_M_prime = linalg.cholesky(rev_cov, lower=True)\n",
    "rev_inv_M_prime = linalg.inv(rev_M_prime)\n",
    "\n",
    "rev_indie_z = np.dot(rev_inv_M_prime, rev_X)\n",
    "\n",
    "\n",
    "\"\"\"(Backward) Inverse Nataf Transformation (to standard normal!)\"\"\"\n",
    "rev_z_nataf = T_Nataf.X2U(rev_X)\n",
    "rev_z_nataf.reshape(5,1)"
   ]
  },
  {
   "cell_type": "code",
   "execution_count": 16,
   "metadata": {},
   "outputs": [
    {
     "data": {
      "text/plain": [
       "array([[ 0.        ],\n",
       "       [ 0.84162123],\n",
       "       [-0.84162123],\n",
       "       [-1.28155157],\n",
       "       [-1.28155157]])"
      ]
     },
     "execution_count": 16,
     "metadata": {},
     "output_type": "execute_result"
    }
   ],
   "source": [
    "rev_indie_z"
   ]
  },
  {
   "cell_type": "code",
   "execution_count": null,
   "metadata": {},
   "outputs": [],
   "source": []
  }
 ],
 "metadata": {
  "kernelspec": {
   "display_name": "Python 3",
   "language": "python",
   "name": "python3"
  },
  "language_info": {
   "codemirror_mode": {
    "name": "ipython",
    "version": 3
   },
   "file_extension": ".py",
   "mimetype": "text/x-python",
   "name": "python",
   "nbconvert_exporter": "python",
   "pygments_lexer": "ipython3",
   "version": "3.6.9"
  }
 },
 "nbformat": 4,
 "nbformat_minor": 4
}
