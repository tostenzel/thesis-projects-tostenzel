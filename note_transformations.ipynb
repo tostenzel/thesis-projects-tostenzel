{
 "cells": [
  {
   "cell_type": "code",
   "execution_count": 3,
   "metadata": {},
   "outputs": [],
   "source": [
    "import sys\n",
    "# Define relative path.\n",
    "sys.path.append(\"python\")"
   ]
  },
  {
   "cell_type": "code",
   "execution_count": 4,
   "metadata": {},
   "outputs": [],
   "source": [
    "import numpy as np\n",
    "\n",
    "from scipy.stats import norm\n",
    "from numpy.testing import assert_array_equal\n",
    "from numpy.testing import assert_array_almost_equal\n",
    "\n",
    "from transform_distributions import transform_uniform_stnormal_uncorr\n",
    "from transform_distributions import covariance_to_correlation\n",
    "from transform_distributions import transform_stnormal_normal_corr_lemaire09\n",
    "\n",
    "sys.path.append(\"python/tests/resources/test_transform_distributions\")\n",
    "from nataf_transformation import nataf_transformation\n",
    "from distributions import distributions"
   ]
  },
  {
   "cell_type": "code",
   "execution_count": 3,
   "metadata": {},
   "outputs": [],
   "source": [
    "# Define shared objects for the next two tests.\n",
    "# Expectation values.\n",
    "mu = np.array([10, 10, 10, 10, 10])\n",
    "\n",
    "# Covariance matrix.\n",
    "cov = np.array([\n",
    "        [10,0,0,2,0.5],\n",
    "        [0,20,0.4,0.15,0],\n",
    "        [0,0.4,30,0.05,0],\n",
    "        [2,0.15,0.05,40,0],\n",
    "        [0.5,0,0,0,50]])\n",
    "\n",
    "# Draws from U(0,1).\n",
    "row = np.array([0.1, 0.1, 0.2, 0.8, 0.5])\n",
    "# Transform draws to uncorrelated N(0,1).\n",
    "z = transform_uniform_stnormal_uncorr(row)"
   ]
  },
  {
   "cell_type": "code",
   "execution_count": 4,
   "metadata": {},
   "outputs": [],
   "source": [
    "# Create Nataf transformation from class for many distribution types.\n",
    "M = list()\n",
    "M.append(distributions('normal', 'PAR', [mu[0], np.sqrt(cov[0 ,0])]))\n",
    "M.append(distributions('normal', 'PAR', [mu[1], np.sqrt(cov[1 ,1])]))\n",
    "M.append(distributions('normal', 'PAR', [mu[2], np.sqrt(cov[2 ,2])]))\n",
    "M.append(distributions('normal', 'PAR', [mu[3], np.sqrt(cov[3 ,3])]))\n",
    "M.append(distributions('normal', 'PAR', [mu[4], np.sqrt(cov[4 ,4])]))\n",
    "\n",
    "Rho = covariance_to_correlation(cov)\n",
    "\n",
    "T_Nataf = nataf_transformation(M, Rho)"
   ]
  },
  {
   "cell_type": "code",
   "execution_count": 11,
   "metadata": {},
   "outputs": [],
   "source": [
    "x_lemaire09, _ = transform_stnormal_normal_corr_lemaire09(z, cov, mu)\n",
    "X = T_Nataf.U2X(z).T"
   ]
  },
  {
   "cell_type": "code",
   "execution_count": 12,
   "metadata": {},
   "outputs": [
    {
     "data": {
      "text/plain": [
       "array([[ 5.94737811,  4.26872717,  5.27623987, 14.4353868 ,  9.78399446]])"
      ]
     },
     "execution_count": 12,
     "metadata": {},
     "output_type": "execute_result"
    }
   ],
   "source": [
    "X"
   ]
  },
  {
   "cell_type": "code",
   "execution_count": 13,
   "metadata": {},
   "outputs": [
    {
     "data": {
      "text/plain": [
       "array([[ 5.94737811,  4.26872717,  5.27623987, 14.4353868 ,  9.78399446]])"
      ]
     },
     "execution_count": 13,
     "metadata": {},
     "output_type": "execute_result"
    }
   ],
   "source": [
    "x_lemaire09"
   ]
  },
  {
   "cell_type": "code",
   "execution_count": 8,
   "metadata": {},
   "outputs": [],
   "source": [
    "# Reverse order in mu and cov.\n",
    "row_rev = row.T\n",
    "\n",
    "mu_rev = mu.T\n",
    "\n",
    "cov_rev = np.array([\n",
    "    [50, 0, 0, 0, 0.5],\n",
    "    [0, 40, 0.05, 0.15, 2],\n",
    "    [0, 0.05, 30, 0.4, 0],\n",
    "    [0, 0.15, 0.4, 20, 0],\n",
    "    [0.5, 2, 0, 0, 10]])\n",
    "\n",
    "# Transform draws to uncorrelated N(0,1).\n",
    "z_rev = transform_uniform_stnormal_uncorr(row_rev)"
   ]
  },
  {
   "cell_type": "code",
   "execution_count": 14,
   "metadata": {},
   "outputs": [],
   "source": [
    "x_lemaire09_rev, _ = transform_stnormal_normal_corr_lemaire09(z_rev, cov_rev, mu_rev)"
   ]
  },
  {
   "cell_type": "markdown",
   "metadata": {},
   "source": [
    "# The order does matter."
   ]
  },
  {
   "cell_type": "code",
   "execution_count": 15,
   "metadata": {},
   "outputs": [
    {
     "data": {
      "text/plain": [
       "array([[ 0.93806198,  1.89475623,  5.3801239 , 13.67146099,  9.5030972 ]])"
      ]
     },
     "execution_count": 15,
     "metadata": {},
     "output_type": "execute_result"
    }
   ],
   "source": [
    "x_lemaire09_rev"
   ]
  },
  {
   "cell_type": "code",
   "execution_count": null,
   "metadata": {},
   "outputs": [],
   "source": []
  }
 ],
 "metadata": {
  "kernelspec": {
   "display_name": "Python 3",
   "language": "python",
   "name": "python3"
  },
  "language_info": {
   "codemirror_mode": {
    "name": "ipython",
    "version": 3
   },
   "file_extension": ".py",
   "mimetype": "text/x-python",
   "name": "python",
   "nbconvert_exporter": "python",
   "pygments_lexer": "ipython3",
   "version": "3.6.9"
  }
 },
 "nbformat": 4,
 "nbformat_minor": 4
}
