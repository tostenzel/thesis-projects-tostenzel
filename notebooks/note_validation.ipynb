{
 "cells": [
  {
   "cell_type": "code",
   "execution_count": null,
   "metadata": {},
   "outputs": [],
   "source": [
    "import sys\n",
    "# Define relative path.\n",
    "sys.path.append(\"..\")"
   ]
  },
  {
   "cell_type": "code",
   "execution_count": 2,
   "metadata": {},
   "outputs": [],
   "source": [
    "import itertools\n",
    "import matplotlib.pyplot as plt\n",
    "import numpy as np\n",
    "import pandas as pd\n",
    "\n",
    "from scrypy.sampling_schemes import morris_trajectory\n",
    "from scrypy.screening_measures import screening_measures\n",
    "from scrypy.transform_reorder import reorder_cov\n",
    "from scrypy.transform_distributions import covariance_to_correlation"
   ]
  },
  {
   "cell_type": "code",
   "execution_count": 3,
   "metadata": {},
   "outputs": [
    {
     "data": {
      "text/plain": [
       "'Perhaps I need to add the scaled Elementary Effects (by SD)'"
      ]
     },
     "execution_count": 3,
     "metadata": {},
     "output_type": "execute_result"
    }
   ],
   "source": [
    "\"\"\"Perhaps I need to add the scaled Elementary Effects (by SD)\"\"\""
   ]
  },
  {
   "cell_type": "code",
   "execution_count": 4,
   "metadata": {},
   "outputs": [],
   "source": [
    "def bar_plot(input_par_array):\n",
    "    new_list = input_par_array.reshape(-1, 1).tolist()\n",
    "    merged = pd.Series(itertools.chain.from_iterable(new_list))\n",
    "    vc = merged.value_counts().sort_index()\n",
    "    vc /= float(vc.sum())\n",
    "    assert vc.sum() > 0.999\n",
    "    ax = vc.plot(kind='bar')\n",
    "    fig = ax.get_figure()\n",
    "    fig.autofmt_xdate()"
   ]
  },
  {
   "cell_type": "code",
   "execution_count": 5,
   "metadata": {},
   "outputs": [],
   "source": [
    "\"\"\"Example from Ge/Menendez (2017)\"\"\"\n",
    "def linear_function(a, b, c, *args):\n",
    "    return a + b + c\n",
    "\n",
    "mu = np.array([0, 0, 0])\n",
    "\"\"\"\n",
    "cov = np.array(\n",
    "    [\n",
    "        [1.0, 0.0, 0.0],\n",
    "        [0.0, 1.0, 0.0],\n",
    "        [0.0, 0.0, 1.0],\n",
    "    ]\n",
    ")\n",
    "\"\"\"\n",
    "# Number oflevels rises if there are different covarianzes\n",
    "\n",
    "cov = np.array(\n",
    "    [\n",
    "        [1.0, 0.9, 0.4],\n",
    "        [0.9, 1.0, 0.0],\n",
    "        [0.4, 0.0, 1.0],\n",
    "    ]\n",
    ")\n",
    "numeric_zero = 0.01\n",
    "seed = 2020\n",
    "n_levels = 10\n",
    "n_inputs = 3\n",
    "n_traj_sample = 10_000\n",
    "\n",
    "traj_list = list()\n",
    "step_list = list()\n",
    "for traj in range(0, n_traj_sample):\n",
    "    seed = seed + traj\n",
    "    m_traj, step = morris_trajectory(n_inputs, n_levels, seed, True, numeric_zero)\n",
    "    traj_list.append(m_traj)\n",
    "    step_list.append(step)"
   ]
  },
  {
   "cell_type": "code",
   "execution_count": 6,
   "metadata": {},
   "outputs": [
    {
     "data": {
      "image/png": "[encoded data removed]",
      "text/plain": [
       "<Figure size 432x288 with 1 Axes>"
      ]
     },
     "metadata": {
      "needs_background": "light"
     },
     "output_type": "display_data"
    }
   ],
   "source": [
    "\"Check: For some even n_levels 1.0 has double the number of observations.\"\n",
    "bar_plot(np.vstack(traj_list))"
   ]
  },
  {
   "cell_type": "code",
   "execution_count": 7,
   "metadata": {},
   "outputs": [],
   "source": [
    "\"\"\"I am able to replicate the results for the two normally distributed examples. The only difference is the scale because they seem to use another number of levels.\"\"\"\n",
    "ee_ind, ee_full, abs_ee_ind, abs_ee_full, sd_ee_ind, sd_ee_full = screening_measures(linear_function, traj_list, step_list, cov, mu)"
   ]
  },
  {
   "cell_type": "code",
   "execution_count": 8,
   "metadata": {},
   "outputs": [
    {
     "data": {
      "text/plain": [
       "array([[1.],\n",
       "       [1.],\n",
       "       [1.]])"
      ]
     },
     "execution_count": 8,
     "metadata": {},
     "output_type": "execute_result"
    }
   ],
   "source": [
    "ee_ind"
   ]
  },
  {
   "cell_type": "code",
   "execution_count": 9,
   "metadata": {},
   "outputs": [
    {
     "data": {
      "text/plain": [
       "array([[1.],\n",
       "       [1.],\n",
       "       [1.]])"
      ]
     },
     "execution_count": 9,
     "metadata": {},
     "output_type": "execute_result"
    }
   ],
   "source": [
    "abs_ee_ind #last element is largest because it has the lowest correlation."
   ]
  },
  {
   "cell_type": "code",
   "execution_count": 10,
   "metadata": {},
   "outputs": [
    {
     "data": {
      "text/plain": [
       "array([[8.27170545e-16],\n",
       "       [5.70206265e-16],\n",
       "       [3.11709820e-16]])"
      ]
     },
     "execution_count": 10,
     "metadata": {},
     "output_type": "execute_result"
    }
   ],
   "source": [
    "sd_ee_ind"
   ]
  },
  {
   "cell_type": "code",
   "execution_count": 11,
   "metadata": {},
   "outputs": [
    {
     "data": {
      "text/plain": [
       "array([[2.3],\n",
       "       [1.9],\n",
       "       [1.4]])"
      ]
     },
     "execution_count": 11,
     "metadata": {},
     "output_type": "execute_result"
    }
   ],
   "source": [
    "ee_full"
   ]
  },
  {
   "cell_type": "code",
   "execution_count": 12,
   "metadata": {},
   "outputs": [
    {
     "data": {
      "text/plain": [
       "array([[2.3],\n",
       "       [1.9],\n",
       "       [1.4]])"
      ]
     },
     "execution_count": 12,
     "metadata": {},
     "output_type": "execute_result"
    }
   ],
   "source": [
    "abs_ee_full"
   ]
  },
  {
   "cell_type": "code",
   "execution_count": 13,
   "metadata": {},
   "outputs": [
    {
     "data": {
      "text/plain": [
       "array([[3.05906235e-16],\n",
       "       [4.18629168e-16],\n",
       "       [2.34601448e-16]])"
      ]
     },
     "execution_count": 13,
     "metadata": {},
     "output_type": "execute_result"
    }
   ],
   "source": [
    "sd_ee_full"
   ]
  },
  {
   "cell_type": "code",
   "execution_count": null,
   "metadata": {},
   "outputs": [],
   "source": []
  },
  {
   "cell_type": "code",
   "execution_count": null,
   "metadata": {},
   "outputs": [],
   "source": []
  }
 ],
 "metadata": {
  "kernelspec": {
   "display_name": "Python 3",
   "language": "python",
   "name": "python3"
  },
  "language_info": {
   "codemirror_mode": {
    "name": "ipython",
    "version": 3
   },
   "file_extension": ".py",
   "mimetype": "text/x-python",
   "name": "python",
   "nbconvert_exporter": "python",
   "pygments_lexer": "ipython3",
   "version": "3.6.9"
  }
 },
 "nbformat": 4,
 "nbformat_minor": 4
}
