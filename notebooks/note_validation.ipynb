{
 "cells": [
  {
   "cell_type": "code",
   "execution_count": 1,
   "metadata": {},
   "outputs": [],
   "source": [
    "import sys\n",
    "# Define relative path.\n",
    "sys.path.append(\"..\")"
   ]
  },
  {
   "cell_type": "code",
   "execution_count": 2,
   "metadata": {},
   "outputs": [],
   "source": [
    "import itertools\n",
    "import matplotlib.pyplot as plt\n",
    "import numpy as np\n",
    "import pandas as pd\n",
    "\n",
    "from scrypy.sampling_schemes import trajectory_sample\n",
    "from scrypy.sampling_schemes import radial_sample\n",
    "from scrypy.screening_measures_radial import screening_measures_radial\n",
    "from scrypy.transform_reorder import reorder_cov\n",
    "from scrypy.transform_distributions import covariance_to_correlation"
   ]
  },
  {
   "cell_type": "code",
   "execution_count": 3,
   "metadata": {},
   "outputs": [
    {
     "data": {
      "text/plain": [
       "'Perhaps I need to add the scaled Elementary Effects (by SD)'"
      ]
     },
     "execution_count": 3,
     "metadata": {},
     "output_type": "execute_result"
    }
   ],
   "source": [
    "\"\"\"Perhaps I need to add the scaled Elementary Effects (by SD)\"\"\""
   ]
  },
  {
   "cell_type": "code",
   "execution_count": 4,
   "metadata": {},
   "outputs": [],
   "source": [
    "def bar_plot(input_par_array):\n",
    "    new_list = input_par_array.reshape(-1, 1).tolist()\n",
    "    merged = pd.Series(itertools.chain.from_iterable(new_list))\n",
    "    vc = merged.value_counts().sort_index()\n",
    "    vc /= float(vc.sum())\n",
    "    assert vc.sum() > 0.999\n",
    "    ax = vc.plot(kind='bar')\n",
    "    fig = ax.get_figure()\n",
    "    fig.autofmt_xdate()"
   ]
  },
  {
   "cell_type": "code",
   "execution_count": 5,
   "metadata": {},
   "outputs": [],
   "source": [
    "\"\"\"Example from Ge/Menendez (2017)\"\"\"\n",
    "def linear_function(a, b, c, *args):\n",
    "    return a + b + c\n",
    "\n",
    "mu = np.array([0, 0, 0])\n",
    "\"\"\"\n",
    "cov = np.array(\n",
    "    [\n",
    "        [1.0, 0.0, 0.0],\n",
    "        [0.0, 1.0, 0.0],\n",
    "        [0.0, 0.0, 1.0],\n",
    "    ]\n",
    ")\n",
    "\"\"\"\n",
    "# Number oflevels rises if there are different covarianzes\n",
    "\n",
    "cov = np.array(\n",
    "    [\n",
    "        [1.0, 0.9, 0.4],\n",
    "        [0.9, 1.0, 0.0],\n",
    "        [0.4, 0.0, 1.0],\n",
    "    ]\n",
    ")\n",
    "numeric_zero = 0.01\n",
    "seed = 2020\n",
    "n_levels = 10\n",
    "n_inputs = 3\n",
    "n_sample = 10_0\n",
    "\n",
    "#traj_list, step_list = trajectory_sample(n_sample, n_inputs, n_levels, seed, True, numeric_zero)\n",
    "traj_list, step_list = radial_sample(n_sample, n_inputs, seed, True, numeric_zero)"
   ]
  },
  {
   "cell_type": "code",
   "execution_count": null,
   "metadata": {},
   "outputs": [],
   "source": [
    "\"Check: For some even n_levels 1.0 has double the number of observations.\"\n",
    "bar_plot(np.vstack(traj_list))"
   ]
  },
  {
   "cell_type": "code",
   "execution_count": null,
   "metadata": {},
   "outputs": [],
   "source": [
    "\"\"\"I am able to replicate the results for the two normally distributed examples. The only difference is the scale because they seem to use another number of levels.\"\"\"\n",
    "#ee_ind, ee_full, abs_ee_ind, abs_ee_full, sd_ee_ind, sd_ee_full = screening_measures(linear_function, traj_list, step_list, cov, mu, radial=False)\n",
    "ee_ind, ee_full, abs_ee_ind, abs_ee_full, sd_ee_ind, sd_ee_full = screening_measures_radial(linear_function, traj_list, step_list, cov, mu)"
   ]
  },
  {
   "cell_type": "code",
   "execution_count": null,
   "metadata": {},
   "outputs": [],
   "source": [
    "ee_ind"
   ]
  },
  {
   "cell_type": "code",
   "execution_count": null,
   "metadata": {},
   "outputs": [],
   "source": [
    "abs_ee_ind #last element is largest because it has the lowest correlation."
   ]
  },
  {
   "cell_type": "code",
   "execution_count": null,
   "metadata": {},
   "outputs": [],
   "source": [
    "sd_ee_ind"
   ]
  },
  {
   "cell_type": "code",
   "execution_count": null,
   "metadata": {},
   "outputs": [],
   "source": [
    "ee_full"
   ]
  },
  {
   "cell_type": "code",
   "execution_count": null,
   "metadata": {},
   "outputs": [],
   "source": [
    "abs_ee_full"
   ]
  },
  {
   "cell_type": "code",
   "execution_count": null,
   "metadata": {},
   "outputs": [],
   "source": [
    "sd_ee_full"
   ]
  },
  {
   "cell_type": "code",
   "execution_count": null,
   "metadata": {},
   "outputs": [],
   "source": []
  },
  {
   "cell_type": "code",
   "execution_count": null,
   "metadata": {},
   "outputs": [],
   "source": []
  }
 ],
 "metadata": {
  "kernelspec": {
   "display_name": "Python 3",
   "language": "python",
   "name": "python3"
  },
  "language_info": {
   "codemirror_mode": {
    "name": "ipython",
    "version": 3
   },
   "file_extension": ".py",
   "mimetype": "text/x-python",
   "name": "python",
   "nbconvert_exporter": "python",
   "pygments_lexer": "ipython3",
   "version": "3.6.9"
  }
 },
 "nbformat": 4,
 "nbformat_minor": 4
}
