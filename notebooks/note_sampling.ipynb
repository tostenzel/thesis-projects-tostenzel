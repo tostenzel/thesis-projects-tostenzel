{
 "cells": [
  {
   "cell_type": "code",
   "execution_count": 1,
   "metadata": {},
   "outputs": [],
   "source": [
    "import sys\n",
    "# Define relative path.\n",
    "sys.path.append(\"..\")"
   ]
  },
  {
   "cell_type": "code",
   "execution_count": 2,
   "metadata": {},
   "outputs": [],
   "source": [
    "import itertools\n",
    "import time\n",
    "import matplotlib.pyplot as plt\n",
    "import numpy as np\n",
    "import pandas as pd\n",
    "\n",
    "from scrypy.sampling_schemes import morris_trajectory\n",
    "from scrypy.select_sample_set import simple_stairs\n",
    "from scrypy.select_sample_set import campolongo_2007\n",
    "from scrypy.select_sample_set import intermediate_ge_menendez_2014\n",
    "from scrypy.select_sample_set import final_ge_menendez_2014\n",
    "from scrypy.select_sample_set import distance_matrix\n",
    "from scrypy.select_sample_set import total_distance"
   ]
  },
  {
   "cell_type": "code",
   "execution_count": 3,
   "metadata": {},
   "outputs": [],
   "source": [
    "def bar_plot(input_par_array):\n",
    "    new_list = input_par_array.reshape(-1, 1).tolist()\n",
    "    merged = pd.Series(itertools.chain.from_iterable(new_list))\n",
    "    vc = merged.value_counts().sort_index()\n",
    "    vc /= float(vc.sum())\n",
    "    assert vc.sum() > 0.999\n",
    "    ax = vc.plot(kind='bar')\n",
    "    fig = ax.get_figure()\n",
    "    fig.autofmt_xdate()"
   ]
  },
  {
   "cell_type": "code",
   "execution_count": 4,
   "metadata": {},
   "outputs": [],
   "source": [
    "# Create list of n_traj_sample trajectories\n",
    "\n",
    "n_inputs = 4\n",
    "n_levels = 6\n",
    "n_traj_sample = 20\n",
    "sample_traj_list = list()\n",
    "for traj in range(0, n_traj_sample):\n",
    "    seed = 123 + traj\n",
    "    m_traj, _ = morris_trajectory(n_inputs, n_levels, seed=seed)\n",
    "    sample_traj_list.append(m_traj)\n",
    "\n",
    "simple_morris_sample = np.vstack(sample_traj_list)\n",
    "simple_pairs_dist_matrix = distance_matrix(sample_traj_list)"
   ]
  },
  {
   "cell_type": "code",
   "execution_count": 5,
   "metadata": {},
   "outputs": [
    {
     "data": {
      "image/png": "[encoded data removed]",
      "text/plain": [
       "<Figure size 432x288 with 1 Axes>"
      ]
     },
     "metadata": {
      "needs_background": "light"
     },
     "output_type": "display_data"
    }
   ],
   "source": [
    "bar_plot(simple_morris_sample)"
   ]
  },
  {
   "cell_type": "code",
   "execution_count": 6,
   "metadata": {},
   "outputs": [
    {
     "name": "stdout",
     "output_type": "stream",
     "text": [
      "0.31615161895751953\n"
     ]
    },
    {
     "data": {
      "image/png": "[encoded data removed]",
      "text/plain": [
       "<Figure size 432x288 with 1 Axes>"
      ]
     },
     "metadata": {
      "needs_background": "light"
     },
     "output_type": "display_data"
    }
   ],
   "source": [
    "\"\"\"Experiment Final Ge/Menendez(2014)\"\"\"\n",
    "# 30 over 15 traj combinations take too long to compute.\n",
    "start = time.time()\n",
    "\n",
    "final_ge_menendez_2014_array, _, final_gm14_pairs_dist_matrix = final_ge_menendez_2014(\n",
    "    sample_traj_list, n_traj=10\n",
    ")\n",
    "\n",
    "end = time.time()\n",
    "print(end - start)\n",
    "bar_plot(final_ge_menendez_2014_array)"
   ]
  },
  {
   "cell_type": "code",
   "execution_count": 7,
   "metadata": {},
   "outputs": [
    {
     "name": "stdout",
     "output_type": "stream",
     "text": [
      "0.10970091819763184\n"
     ]
    },
    {
     "data": {
      "image/png": "[encoded data removed]",
      "text/plain": [
       "<Figure size 432x288 with 1 Axes>"
      ]
     },
     "metadata": {
      "needs_background": "light"
     },
     "output_type": "display_data"
    }
   ],
   "source": [
    "\"\"\"Experiment Intermediate Ge/Menendez(2014)\"\"\"\n",
    "# 30 over 15 traj combinations take too long to compute.\n",
    "start = time.time()\n",
    "\n",
    "intermediate_ge_menendez_2014_array, _, intermediate_gm14_pairs_dist_matrix = intermediate_ge_menendez_2014(\n",
    "    sample_traj_list, n_traj=10\n",
    ")\n",
    "\n",
    "end = time.time()\n",
    "print(end - start)\n",
    "bar_plot(intermediate_ge_menendez_2014_array)"
   ]
  },
  {
   "cell_type": "code",
   "execution_count": 8,
   "metadata": {},
   "outputs": [
    {
     "name": "stdout",
     "output_type": "stream",
     "text": [
      "12.741515636444092\n"
     ]
    },
    {
     "data": {
      "image/png": "[encoded data removed]",
      "text/plain": [
       "<Figure size 432x288 with 1 Axes>"
      ]
     },
     "metadata": {
      "needs_background": "light"
     },
     "output_type": "display_data"
    }
   ],
   "source": [
    "\"\"\"Experiment Campolongo (2007)\"\"\"\n",
    "# 30 over 15 traj combinations take too long to compute.\n",
    "start = time.time()\n",
    "\n",
    "campolongo_2007_array, _, c07_pairs_dist_matrix = campolongo_2007(\n",
    "    sample_traj_list, n_traj=10\n",
    ")\n",
    "\n",
    "end = time.time()\n",
    "print(end - start)\n",
    "bar_plot(campolongo_2007_array)"
   ]
  },
  {
   "cell_type": "code",
   "execution_count": 9,
   "metadata": {},
   "outputs": [
    {
     "name": "stdout",
     "output_type": "stream",
     "text": [
      "114.7387662763889\n",
      "121.00158251179357\n",
      "121.00158251179357\n",
      "11.509210486489566\n"
     ]
    }
   ],
   "source": [
    "# compare total distances\n",
    "final_gm14_total_distance = total_distance(final_gm14_pairs_dist_matrix)\n",
    "intermediate_gm14_total_distance = total_distance(intermediate_gm14_pairs_dist_matrix)\n",
    "c07_gm14_total_distance = total_distance(c07_pairs_dist_matrix)\n",
    "simple_total_distance = total_distance(simple_pairs_dist_matrix)\n",
    "\n",
    "print(final_gm14_total_distance)\n",
    "print(intermediate_gm14_total_distance)\n",
    "print(c07_gm14_total_distance)\n",
    "print(simple_total_distance/20)"
   ]
  },
  {
   "cell_type": "code",
   "execution_count": null,
   "metadata": {},
   "outputs": [],
   "source": []
  }
 ],
 "metadata": {
  "kernelspec": {
   "display_name": "Python 3",
   "language": "python",
   "name": "python3"
  },
  "language_info": {
   "codemirror_mode": {
    "name": "ipython",
    "version": 3
   },
   "file_extension": ".py",
   "mimetype": "text/x-python",
   "name": "python",
   "nbconvert_exporter": "python",
   "pygments_lexer": "ipython3",
   "version": "3.6.9"
  }
 },
 "nbformat": 4,
 "nbformat_minor": 4
}
